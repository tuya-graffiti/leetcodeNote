{
 "cells": [
  {
   "cell_type": "markdown",
   "source": [
    "# 递归\n",
    "要通过简单题目把方法论确定下来，有了方法论，后面才能应付复杂的递归。<br>故这里给出递归算法的三个要素\n"
   ],
   "metadata": {
    "collapsed": false
   },
   "id": "4d931b010555d9f3"
  },
  {
   "cell_type": "markdown",
   "source": [
    "- 确定递归函数的参数和返回值： 确定哪些参数是递归的过程中需要处理的，那么就在递归函数里加上这个参数， 并且还要明确每次递归的返回值是什么进而确定递归函数的返回类型。\n",
    "- 确定终止条件： 写完了递归算法, 运行的时候，经常会遇到栈溢出的错误，就是没写终止条件或者终止条件写的不对，操作系统也是用一个栈的结构来保存每一层递归的信息，如果递归没有终止，操作系统的内存栈必然就会溢出。\n",
    "- 确定单层递归的逻辑： 确定每一层递归需要处理的信息。在这里也就会重复调用自己来实现递归的过程。"
   ],
   "metadata": {
    "collapsed": false
   },
   "id": "8fd9373cfb26af0a"
  },
  {
   "cell_type": "markdown",
   "source": [
    "## 以前序遍历为例"
   ],
   "metadata": {
    "collapsed": false
   },
   "id": "dd8e2febbe66a656"
  },
  {
   "cell_type": "markdown",
   "source": [
    "### 确定递归函数的参数和返回值\n",
    "~~~\n",
    "def traversal(cur,vec):\n",
    "   ''' \n",
    "   :param cur: 当前节点 \n",
    "   :param vec: 存放节点数值的容器\n",
    "   :return: void return 就行\n",
    "   '''\n",
    "   return None\n",
    "~~~\n",
    "### 确定终止条件\n",
    "~~~\n",
    "if (cur == NULL):\n",
    "   return;\n",
    "~~~\n",
    "### 确定单层递归的逻辑\n",
    "~~~\n",
    "vec.push(cur.val)\n",
    "traversal(cur.left,vec)\n",
    "traversal(cur.right,vec)\n",
    "~~~"
   ],
   "metadata": {
    "collapsed": false
   },
   "id": "9496596428c0a9c6"
  },
  {
   "cell_type": "markdown",
   "source": [
    "**注意** 递归与回溯的区别在于，递归的判断条件直接在单次递归里，而回溯的除了每步都要撤销回溯外，还需要有一个最终的终止条件和结果存放 "
   ],
   "metadata": {
    "collapsed": false
   },
   "id": "1cebd113304528fd"
  },
  {
   "cell_type": "markdown",
   "source": [],
   "metadata": {
    "collapsed": false
   },
   "id": "93f5bc0b6fb89707"
  }
 ],
 "metadata": {
  "kernelspec": {
   "display_name": "Python 3",
   "language": "python",
   "name": "python3"
  },
  "language_info": {
   "codemirror_mode": {
    "name": "ipython",
    "version": 2
   },
   "file_extension": ".py",
   "mimetype": "text/x-python",
   "name": "python",
   "nbconvert_exporter": "python",
   "pygments_lexer": "ipython2",
   "version": "2.7.6"
  }
 },
 "nbformat": 4,
 "nbformat_minor": 5
}
