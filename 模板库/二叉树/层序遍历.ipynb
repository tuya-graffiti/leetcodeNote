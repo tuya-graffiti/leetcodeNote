{
 "cells": [
  {
   "cell_type": "markdown",
   "source": [
    "# BFS\n",
    "层序遍历二叉树与其他方式不一样，层序遍历需要借用一个辅助数据结构-队列来实现，队列FIFO，符合一层一层遍历的逻辑，而用栈LIFO先进后出则适合深度优先遍历也就是递归的逻辑。<br>\n",
    "这种层序遍历方式就是图论中的广度优先遍历，不过我们应用在二叉树上。"
   ],
   "metadata": {
    "collapsed": false
   },
   "id": "a26b04f9870b0b69"
  },
  {
   "cell_type": "markdown",
   "source": [
    "## 方法1 递归法"
   ],
   "metadata": {
    "collapsed": false
   },
   "id": "a049a1c0f498cfa8"
  },
  {
   "cell_type": "code",
   "execution_count": null,
   "outputs": [],
   "source": [
    "#Definition for a binary tree node\n",
    "class TreeNode:\n",
    "    def __init__(self,val = 0,left = None,right = None):\n",
    "        self.val = val\n",
    "        self.left = left\n",
    "        self.right = right\n",
    "class Solution:\n",
    "    def levelOrder(self,root):\n",
    "        if not root :# 判断条件 空树就返回\n",
    "            return []\n",
    "        levels = []\n",
    "        def traverse(node,level):\n",
    "            if not node:\n",
    "                return \n",
    "            if len(levels) == level:\n",
    "                levels.append([])\n",
    "            levels[level].append(node.val)\n",
    "            traverse(node.left,level+1)\n",
    "            traverse(node.right,level+1)\n",
    "        traverse(root,0)\n",
    "        return levels        "
   ],
   "metadata": {
    "collapsed": false
   },
   "id": "15c1db88e000f9dd"
  },
  {
   "cell_type": "markdown",
   "source": [
    "## 方法2 长度法  BFS标准实现方法"
   ],
   "metadata": {
    "collapsed": false
   },
   "id": "a4d2f1fbae9bce94"
  },
  {
   "cell_type": "code",
   "execution_count": null,
   "outputs": [],
   "source": [
    "# 利用长度法\n",
    "# Definition for a binary tree node.\n",
    "class TreeNode:\n",
    "    def __init__(self, val=0, left=None, right=None):\n",
    "        self.val = val\n",
    "        self.left = left\n",
    "        self.right = right\n",
    "import collections\n",
    "class Solution:\n",
    "    def levelOrder(self, root) :\n",
    "        if not root:\n",
    "            return []\n",
    "        queue = collections.deque([root])\n",
    "        result = []\n",
    "        while queue:\n",
    "            level = []\n",
    "            for _ in range(len(queue)):\n",
    "                cur = queue.popleft()\n",
    "                level.append(cur.val)\n",
    "                if cur.left:\n",
    "                    queue.append(cur.left)\n",
    "                if cur.right:\n",
    "                    queue.append(cur.right)\n",
    "            result.append(level)\n",
    "        return result\n",
    "Solution().levelOrder()"
   ],
   "metadata": {
    "collapsed": false
   },
   "id": "ac2bb22a217519e4"
  }
 ],
 "metadata": {
  "kernelspec": {
   "display_name": "Python 3",
   "language": "python",
   "name": "python3"
  },
  "language_info": {
   "codemirror_mode": {
    "name": "ipython",
    "version": 2
   },
   "file_extension": ".py",
   "mimetype": "text/x-python",
   "name": "python",
   "nbconvert_exporter": "python",
   "pygments_lexer": "ipython2",
   "version": "2.7.6"
  }
 },
 "nbformat": 4,
 "nbformat_minor": 5
}
