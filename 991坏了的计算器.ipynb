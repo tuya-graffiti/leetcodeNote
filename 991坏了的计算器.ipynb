{
 "cells": [
  {
   "cell_type": "markdown",
   "source": [
    "![991.png](pic/991.png)"
   ],
   "metadata": {
    "collapsed": false
   },
   "id": "70681676157e14"
  },
  {
   "cell_type": "markdown",
   "source": [
    "## 分析"
   ],
   "metadata": {
    "collapsed": false
   },
   "id": "9ccf1742621a8e11"
  },
  {
   "cell_type": "markdown",
   "source": [
    "涉及到两个思想，贪心与逆向思维<br>\n",
    "为什么这道题采用逆向思维更优？<br>\n",
    "#### 正向思维：\n",
    "    在X<Y时要实现操作数最小，要将X逼近Y的1/2值或1/4值或1/8值或...再进行2操作，难点在于要判断要逼近的是1/2值还是1/4值还是其他值，逻辑复杂\n",
    "#### 逆向思维：\n",
    "    在Y>X时Y只管/2，到了Y<X时在+1逼近<br>\n",
    "说白了就是，正向思维采用的是先小跨度的-1操作，再大跨度的2操作；逆向思维采用的是先大跨度的/2操作，再小跨度的-1操作<br>\n",
    "然而事实上往往是先大后小的解决问题思维在实现起来会比较简单"
   ],
   "metadata": {
    "collapsed": false
   },
   "id": "cb038eca0817998e"
  },
  {
   "cell_type": "markdown",
   "source": [
    "**Q**:为什么正向思维采用的是先小跨度的-1操作?防止老是x2后续决策树爆炸了。"
   ],
   "metadata": {
    "collapsed": false
   },
   "id": "5358c4e323c3dff2"
  },
  {
   "cell_type": "code",
   "execution_count": null,
   "outputs": [],
   "source": [
    "class Solution(object):\n",
    "    def brokenCalc(self, X, Y):\n",
    "        ans = 0\n",
    "        while Y > X:\n",
    "            ans += 1\n",
    "            if Y%2: Y += 1\n",
    "            else: Y /= 2\n",
    "\n",
    "        return ans + X-Y"
   ],
   "metadata": {
    "collapsed": false
   },
   "id": "d1a6d69fc4bae044"
  }
 ],
 "metadata": {
  "kernelspec": {
   "display_name": "Python 3",
   "language": "python",
   "name": "python3"
  },
  "language_info": {
   "codemirror_mode": {
    "name": "ipython",
    "version": 2
   },
   "file_extension": ".py",
   "mimetype": "text/x-python",
   "name": "python",
   "nbconvert_exporter": "python",
   "pygments_lexer": "ipython2",
   "version": "2.7.6"
  }
 },
 "nbformat": 4,
 "nbformat_minor": 5
}
