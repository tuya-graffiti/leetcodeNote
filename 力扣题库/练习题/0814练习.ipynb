{
 "cells": [
  {
   "cell_type": "markdown",
   "source": [
    "# 2106 摘水果\n",
    "![2106](pic/2106.png)"
   ],
   "metadata": {
    "collapsed": false
   },
   "id": "ec661874213f427c"
  },
  {
   "cell_type": "markdown",
   "source": [
    "## 解法1 二分查找+前缀和"
   ],
   "metadata": {
    "collapsed": false
   },
   "id": "3bfb93f89f022c27"
  },
  {
   "cell_type": "code",
   "execution_count": 2,
   "outputs": [],
   "source": [
    "class Solution:\n",
    "    def maxTotalFruits(self, fruits, startPos: int, k: int) -> int:\n",
    "        n = len(fruits)\n",
    "    # 提取位置和数量\n",
    "        positions = [pos for pos, _ in fruits]\n",
    "        amounts = [amount for _, amount in fruits]\n",
    "    # 计算前缀和\n",
    "        prefix = [0] * (n + 1)\n",
    "        for i in range(n):\n",
    "            prefix[i+1] = prefix[i] + amounts[i]\n",
    "    \n",
    "        max_total = 0\n",
    "    \n",
    "    # 定义二分查找函数\n",
    "        def lower_bound(left, right, target):\n",
    "            while left <= right:\n",
    "                mid = (left + right) // 2\n",
    "                if positions[mid] >= target:\n",
    "                    right = mid - 1\n",
    "                else:\n",
    "                    left = mid + 1\n",
    "            return left\n",
    "    \n",
    "        def upper_bound(left, right, target):\n",
    "            while left <= right:\n",
    "                mid = (left + right) // 2\n",
    "                if positions[mid] > target:\n",
    "                    right = mid - 1\n",
    "                else:\n",
    "                    left = mid + 1\n",
    "            return left\n",
    "    \n",
    "        for x in range(0, k // 2 + 1):\n",
    "        # 模式1：先向左走x步，再向右走k-x步\n",
    "            left_pos = startPos - x\n",
    "            right_pos = startPos + (k - 2*x)\n",
    "        # 找到第一个>=left_pos的位置\n",
    "            l = lower_bound(0, n-1, left_pos)\n",
    "        # 找到第一个>right_pos的位置\n",
    "            r = upper_bound(0, n-1, right_pos)\n",
    "            current = prefix[r] - prefix[l]\n",
    "            max_total = max(max_total, current)\n",
    "\n",
    "        # # 模式2：先向右走x步，再向左走k-x步\n",
    "            left_pos = startPos - (k - 2*x)\n",
    "            right_pos = startPos + x\n",
    "            l = lower_bound(0, n-1, left_pos)\n",
    "            r = upper_bound(0, n-1, right_pos)\n",
    "            current = prefix[r] - prefix[l]\n",
    "            max_total = max(max_total, current)\n",
    "    \n",
    "        return max_total"
   ],
   "metadata": {
    "collapsed": false,
    "ExecuteTime": {
     "end_time": "2025-08-14T13:02:06.233610500Z",
     "start_time": "2025-08-14T13:02:06.225300700Z"
    }
   },
   "id": "5a33bf3f94c2f6bf"
  },
  {
   "cell_type": "code",
   "execution_count": 3,
   "outputs": [
    {
     "data": {
      "text/plain": "9"
     },
     "execution_count": 3,
     "metadata": {},
     "output_type": "execute_result"
    }
   ],
   "source": [
    "fruits =[[2,8],[6,3],[8,6]]\n",
    "startPos = 5\n",
    "k =4\n",
    "Solution().maxTotalFruits(fruits, startPos, k)"
   ],
   "metadata": {
    "collapsed": false,
    "ExecuteTime": {
     "end_time": "2025-08-14T13:02:34.468464700Z",
     "start_time": "2025-08-14T13:02:34.462160700Z"
    }
   },
   "id": "8362dacec86affbf"
  },
  {
   "cell_type": "markdown",
   "source": [
    "## 解法2 滑动窗口+前缀和"
   ],
   "metadata": {
    "collapsed": false
   },
   "id": "bfaca9bf1723f99d"
  },
  {
   "cell_type": "markdown",
   "source": [
    "( i 起始位置, j 终止位置),滑动窗口 j 用for循环遍历， i 不能用不然就跟两个for循环一样了，因此滑动窗口的核心是在遍历j的同时怎么动态移动 i 。<br>\n",
    "如何操作:终止位置 j 随着 for 循环一个个向后移动，当集合里的值大于条件 S 时，我们移动 i ，再去看下一个集合是否符合条件"
   ],
   "metadata": {
    "collapsed": false
   },
   "id": "72fc074df47e9e13"
  }
 ],
 "metadata": {
  "kernelspec": {
   "display_name": "Python 3",
   "language": "python",
   "name": "python3"
  },
  "language_info": {
   "codemirror_mode": {
    "name": "ipython",
    "version": 2
   },
   "file_extension": ".py",
   "mimetype": "text/x-python",
   "name": "python",
   "nbconvert_exporter": "python",
   "pygments_lexer": "ipython2",
   "version": "2.7.6"
  }
 },
 "nbformat": 4,
 "nbformat_minor": 5
}
