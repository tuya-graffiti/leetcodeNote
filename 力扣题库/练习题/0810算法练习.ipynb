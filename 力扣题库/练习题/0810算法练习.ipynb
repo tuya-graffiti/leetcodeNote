{
 "cells": [
  {
   "cell_type": "code",
   "execution_count": 3,
   "id": "initial_id",
   "metadata": {
    "collapsed": true,
    "ExecuteTime": {
     "end_time": "2025-08-10T03:10:04.870451900Z",
     "start_time": "2025-08-10T03:10:04.857903500Z"
    }
   },
   "outputs": [],
   "source": [
    "import os\n",
    "import sys\n",
    "sys.path.append(os.path.dirname(os.getcwd()))\n",
    "from util.logUtil import Logger"
   ]
  },
  {
   "cell_type": "code",
   "execution_count": 4,
   "outputs": [
    {
     "name": "stderr",
     "output_type": "stream",
     "text": [
      "train - INFO - ==================================================\n",
      "train - INFO - 2025-8-10 算法练习\n"
     ]
    }
   ],
   "source": [
    "# 日志\n",
    "# 初始化日志\n",
    "logger = Logger(log_dir='../log', log_name='train').get_logger()\n",
    "logger.info(\"=\" * 50)\n",
    "logger.info(\"2025-8-10 算法练习\")"
   ],
   "metadata": {
    "collapsed": false,
    "ExecuteTime": {
     "end_time": "2025-08-10T03:10:05.558339100Z",
     "start_time": "2025-08-10T03:10:05.543087400Z"
    }
   },
   "id": "7613f4ad954f63ef"
  },
  {
   "cell_type": "markdown",
   "source": [
    "# 2322. 从树中删除边的最小分数\n",
    "![2322](pic/2322.png)\n",
    "nums = [1,5,5,4,11]\n",
    "edges = [[0,1],[1,2],[1,3],[3,4]]"
   ],
   "metadata": {
    "collapsed": false
   },
   "id": "397953f1f31ef716"
  },
  {
   "cell_type": "markdown",
   "source": [
    "删除两条边会将树分成三个部分，这三个部分的异或值可以通过子树异或和计算。<br>\n",
    "代码中dfs 计算以 x 为根的子树的异或和 son，dfs2 则处理第二条边的分割。<br>\n"
   ],
   "metadata": {
    "collapsed": false
   },
   "id": "c09b889562e45dae"
  },
  {
   "cell_type": "code",
   "execution_count": 8,
   "outputs": [
    {
     "data": {
      "text/plain": "9"
     },
     "execution_count": 8,
     "metadata": {},
     "output_type": "execute_result"
    }
   ],
   "source": [
    "class Solution:\n",
    "    def calc(self, part1, part2, part3):\n",
    "        return max(part1, part2, part3) - min(part1, part2, part3)\n",
    "    def minimumScore(self, nums, edges):\n",
    "        n = len(nums)\n",
    "        e = [[] for _ in range(n)]\n",
    "        for u, v in edges:\n",
    "            e[u].append(v)\n",
    "            e[v].append(u)\n",
    "        # 建一个邻接表\n",
    "        total = 0\n",
    "        for x in nums:\n",
    "            total ^= x\n",
    "        res = float('inf')\n",
    "       # 每次递归调用会生成一个独立的son变量，用来保存当前节点为根的子树异或和\n",
    "        def dfs2(x, f, oth, anc) :\n",
    "            son = nums[x]\n",
    "            for y in e[x]:\n",
    "                if y == f:\n",
    "                    continue\n",
    "                son ^= dfs2(y, x, oth, anc)\n",
    "            if f == anc:\n",
    "                return son\n",
    "            nonlocal res\n",
    "            res = min(res, self.calc(oth, son, total ^ oth ^ son))\n",
    "            return son\n",
    "        \n",
    "        def dfs(x, f) :\n",
    "            son = nums[x]\n",
    "            for y in e[x]:\n",
    "                if y == f:\n",
    "                    continue\n",
    "                son ^= dfs(y, x)\n",
    "            for y in e[x]:\n",
    "                if y == f:\n",
    "                    dfs2(y, x, son, x)\n",
    "            return son\n",
    "\n",
    "        dfs(0, -1)\n",
    "        return res\n",
    "nums = [1,5,5,4,11]\n",
    "edges = [[0,1],[1,2],[1,3],[3,4]]\n",
    "Solution().minimumScore(nums, edges)"
   ],
   "metadata": {
    "collapsed": false,
    "ExecuteTime": {
     "end_time": "2025-08-10T12:17:32.431130200Z",
     "start_time": "2025-08-10T12:17:32.393779500Z"
    }
   },
   "id": "6650301b7963f19a"
  },
  {
   "cell_type": "code",
   "execution_count": 13,
   "outputs": [
    {
     "data": {
      "text/plain": "9"
     },
     "execution_count": 13,
     "metadata": {},
     "output_type": "execute_result"
    }
   ],
   "source": [
    "class Solution:\n",
    "    def calc(self, part1, part2, part3):\n",
    "        \"\"\"\n",
    "        计算三个部分异或值的分数（最大值与最小值的差）\n",
    "        :param part1: 第一部分的异或和\n",
    "        :param part2: 第二部分的异或和\n",
    "        :param part3: 第三部分的异或和\n",
    "        :return: 三个值的最大值与最小值之差\n",
    "        \"\"\"\n",
    "        return max(part1, part2, part3) - min(part1, part2, part3)\n",
    "    \n",
    "    def minimumScore(self, nums, edges):\n",
    "        \"\"\"\n",
    "        计算删除两条边后三个连通分量异或值的最小分数\n",
    "        :param nums: List[int] 节点值数组，nums[i]表示节点i的值\n",
    "        :param edges: List[List[int]] 边列表，每条边连接两个节点\n",
    "        :return: int 最小可能的分数\n",
    "        \"\"\"\n",
    "        n = len(nums)\n",
    "        # 构建邻接表表示的无向树\n",
    "        e = [[] for _ in range(n)]\n",
    "        for u, v in edges:\n",
    "            e[u].append(v)\n",
    "            e[v].append(u)\n",
    "        \n",
    "        # 计算所有节点值的异或总和\n",
    "        total = 0\n",
    "        for x in nums:\n",
    "            total ^= x\n",
    "        \n",
    "        # 初始化结果为无穷大\n",
    "        res = float('inf')\n",
    "        \n",
    "        def dfs2(x, f, oth, anc):\n",
    "            \"\"\"\n",
    "            深度优先搜索，处理第二条被删除边的情况\n",
    "            :param x: 当前节点\n",
    "            :param f: 父节点\n",
    "            :param oth: 第一条边分割后其中一个部分的异或和\n",
    "            :param anc: 祖先节点（第一条边的上半部分连接点）\n",
    "            :return: 以x为根的子树异或和\n",
    "            \"\"\"\n",
    "            # 初始化当前子树异或和为当前节点值\n",
    "            son = nums[x]\n",
    "            # 遍历当前节点的所有邻居（子节点）\n",
    "            for y in e[x]:\n",
    "                # 跳过父节点，避免向上遍历\n",
    "                if y == f:\n",
    "                    continue\n",
    "                # 递归计算子树异或和，并异或到当前子树异或和中\n",
    "                son ^= dfs2(y, x, oth, anc)\n",
    "            \n",
    "            # 如果父节点是祖先节点，说明这是第一条边分割的部分，直接返回\n",
    "            # 这意味着我们不计算这种情况下的分数，因为这不是一个有效的分割\n",
    "            if f == anc:\n",
    "                return son\n",
    "            \n",
    "            # 更新最小分数：\n",
    "            # 三个部分的异或和分别是：\n",
    "            # 1. oth: 第一条边分割出的第一部分\n",
    "            # 2. son: 第二条边分割出的第二部分（以x为根的子树）\n",
    "            # 3. total ^ oth ^ son: 剩余的第三部分\n",
    "            nonlocal res\n",
    "            res = min(res, self.calc(oth, son, total ^ oth ^ son))\n",
    "            \n",
    "            return son\n",
    "        \n",
    "        def dfs(x, f):\n",
    "            \"\"\"\n",
    "            深度优先搜索，处理第一条被删除边的情况\n",
    "            :param x: 当前节点\n",
    "            :param f: 父节点\n",
    "            :return: 以x为根的子树异或和\n",
    "            \"\"\"\n",
    "            # 初始化当前子树异或和为当前节点值\n",
    "            son = nums[x]\n",
    "            \n",
    "            # 第一次遍历：计算以x为根的子树的异或和\n",
    "            for y in e[x]:\n",
    "                # 跳过父节点，避免向上遍历\n",
    "                if y == f:\n",
    "                    continue\n",
    "                # 递归计算子树异或和，并异或到当前子树异或和中\n",
    "                son ^= dfs(y, x)\n",
    "            # 第二次遍历：尝试选择第二条边\n",
    "            # 注意：这里的逻辑是只对父节点调用dfs2\n",
    "            # 这实际上是在考虑删除从当前节点x到其父节点f的边作为第一条边\n",
    "            for y in e[x]:\n",
    "                if y == f:\n",
    "                    # 调用dfs2处理第二条边的分割\n",
    "                    # 参数含义：\n",
    "                    # y: 父节点（作为dfs2的起始节点）\n",
    "                    # x: 当前节点（作为dfs2的父节点，即第一条边的下端点）\n",
    "                    # son: 以x为根的子树异或和（第一条边分割出的一部分）\n",
    "                    # x: 祖先节点（用于在dfs2中判断是否为第一条边的分割）\n",
    "                    dfs2(y, x, son, x)\n",
    "            return son\n",
    "\n",
    "        # 从节点0开始DFS，-1表示节点0没有父节点\n",
    "        dfs(0, -1)\n",
    "        \n",
    "        return res\n",
    "\n",
    "# 测试用例\n",
    "nums = [1,5,5,4,11]\n",
    "edges = [[0,1],[1,2],[1,3],[3,4]]\n",
    "Solution().minimumScore(nums, edges)\n"
   ],
   "metadata": {
    "collapsed": false,
    "ExecuteTime": {
     "end_time": "2025-08-10T12:39:59.722997200Z",
     "start_time": "2025-08-10T12:39:59.713880900Z"
    }
   },
   "id": "5e273b22d8e7bf9f"
  },
  {
   "cell_type": "code",
   "execution_count": null,
   "outputs": [],
   "source": [],
   "metadata": {
    "collapsed": false
   },
   "id": "cae0c1b5f06da7c4"
  }
 ],
 "metadata": {
  "kernelspec": {
   "display_name": "Python 3",
   "language": "python",
   "name": "python3"
  },
  "language_info": {
   "codemirror_mode": {
    "name": "ipython",
    "version": 2
   },
   "file_extension": ".py",
   "mimetype": "text/x-python",
   "name": "python",
   "nbconvert_exporter": "python",
   "pygments_lexer": "ipython2",
   "version": "2.7.6"
  }
 },
 "nbformat": 4,
 "nbformat_minor": 5
}
