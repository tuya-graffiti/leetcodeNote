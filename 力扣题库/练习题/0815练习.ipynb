{
 "cells": [
  {
   "cell_type": "markdown",
   "source": [
    "# 2438\n",
    "![2438](pic/2438.png)"
   ],
   "metadata": {
    "collapsed": false
   },
   "id": "41fe175debbd38b6"
  },
  {
   "cell_type": "code",
   "execution_count": 22,
   "outputs": [],
   "source": [
    "class Solution:\n",
    "    def productQueries(self, n: int, queries):\n",
    "        # 1. 找到 n 的二进制表示中为 1 的位置，生成 powers 数组\n",
    "        powers = []\n",
    "        temp_n = n\n",
    "        power = 0\n",
    "        while temp_n > 0:\n",
    "            if temp_n & 1:  # 检查最低位是否为1\n",
    "                powers.append(2 ** power)\n",
    "            temp_n >>= 1  # 右移一位\n",
    "            power += 1\n",
    "        \n",
    "        # 2. 构建前缀积数组\n",
    "        MOD = 10**9 + 7\n",
    "        prefix = [1]\n",
    "        for p in powers:\n",
    "            prefix.append((prefix[-1] * p) % MOD)\n",
    "        \n",
    "        # 3. 处理查询\n",
    "        answers = []\n",
    "        for left, right in queries:\n",
    "            # 区间 [left, right] 的乘积等于 prefix[right+1] / prefix[left]\n",
    "            result = (prefix[right + 1] * pow(prefix[left], MOD - 2, MOD)) % MOD\n",
    "            answers.append(result)\n",
    "        \n",
    "        return answers"
   ],
   "metadata": {
    "collapsed": false,
    "ExecuteTime": {
     "end_time": "2025-08-15T07:41:50.039749700Z",
     "start_time": "2025-08-15T07:41:50.028734900Z"
    }
   },
   "id": "4182da206e2da950"
  },
  {
   "cell_type": "code",
   "execution_count": 23,
   "outputs": [
    {
     "data": {
      "text/plain": "[2, 4, 64]"
     },
     "execution_count": 23,
     "metadata": {},
     "output_type": "execute_result"
    }
   ],
   "source": [
    "n =15\n",
    "queries = [[0,1],[2,2],[0,3]]\n",
    "Solution().productQueries(n,queries)"
   ],
   "metadata": {
    "collapsed": false,
    "ExecuteTime": {
     "end_time": "2025-08-15T07:41:50.040755900Z",
     "start_time": "2025-08-15T07:41:50.033916200Z"
    }
   },
   "id": "5171809d6f475989"
  },
  {
   "cell_type": "markdown",
   "source": [
    "## tips:乘法逆元"
   ],
   "metadata": {
    "collapsed": false
   },
   "id": "b188fd0686d4930d"
  },
  {
   "cell_type": "markdown",
   "source": [
    "# 68\n",
    "![68](pic/68.png)"
   ],
   "metadata": {
    "collapsed": false
   },
   "id": "e6423419e319e321"
  },
  {
   "cell_type": "code",
   "execution_count": null,
   "outputs": [],
   "source": [],
   "metadata": {
    "collapsed": false
   },
   "id": "4a49c059636a4611"
  }
 ],
 "metadata": {
  "kernelspec": {
   "display_name": "Python 3",
   "language": "python",
   "name": "python3"
  },
  "language_info": {
   "codemirror_mode": {
    "name": "ipython",
    "version": 2
   },
   "file_extension": ".py",
   "mimetype": "text/x-python",
   "name": "python",
   "nbconvert_exporter": "python",
   "pygments_lexer": "ipython2",
   "version": "2.7.6"
  }
 },
 "nbformat": 4,
 "nbformat_minor": 5
}
