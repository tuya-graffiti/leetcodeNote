{
 "cells": [
  {
   "cell_type": "markdown",
   "source": [
    "# 858\n",
    "![858](pic/858.png)"
   ],
   "metadata": {
    "collapsed": false
   },
   "id": "70edd08947b9d90f"
  },
  {
   "cell_type": "code",
   "execution_count": 6,
   "outputs": [
    {
     "name": "stdout",
     "output_type": "stream",
     "text": [
      "2\n"
     ]
    }
   ],
   "source": [
    "from math import gcd\n",
    "class Solution(object):\n",
    "    def mirrorReflection(self, p, q):\n",
    "        g = gcd(p, q)\n",
    "        p = (p / g) % 2\n",
    "        q = (q / g) % 2\n",
    "\n",
    "        return 1 if p and q else 0 if p else 2\n",
    "print(Solution().mirrorReflection(p = 2,q = 1))"
   ],
   "metadata": {
    "collapsed": false,
    "ExecuteTime": {
     "end_time": "2025-08-20T13:28:42.886870700Z",
     "start_time": "2025-08-20T13:28:42.881946Z"
    }
   },
   "id": "8649d2743dd0cb76"
  },
  {
   "cell_type": "markdown",
   "source": [],
   "metadata": {
    "collapsed": false
   },
   "id": "e833cfa824ed90ed"
  }
 ],
 "metadata": {
  "kernelspec": {
   "display_name": "Python 3",
   "language": "python",
   "name": "python3"
  },
  "language_info": {
   "codemirror_mode": {
    "name": "ipython",
    "version": 2
   },
   "file_extension": ".py",
   "mimetype": "text/x-python",
   "name": "python",
   "nbconvert_exporter": "python",
   "pygments_lexer": "ipython2",
   "version": "2.7.6"
  }
 },
 "nbformat": 4,
 "nbformat_minor": 5
}
