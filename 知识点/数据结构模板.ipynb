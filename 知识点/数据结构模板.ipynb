{
 "cells": [
  {
   "cell_type": "markdown",
   "source": [
    "# 栈与队列\n",
    "## 栈\n",
    "栈Stack,遵循LIFO(先进后出)，在python中用list实现\n",
    "~~~\n",
    "push -> list.append(item)\n",
    "\n",
    "pop -> list.pop()\n",
    "\n",
    "peek -> list[-1]\n",
    "\n",
    "is_empty -> len(list) == 0 或 not list\n",
    "~~~"
   ],
   "metadata": {
    "collapsed": false
   },
   "id": "b8624f17b881e524"
  },
  {
   "cell_type": "markdown",
   "source": [
    "## 队列\n",
    "队列Queue,遵循FIFO(先进先出)，在python中用collections.deque实现,或者heap实现优先队列"
   ],
   "metadata": {
    "collapsed": false
   },
   "id": "d993fb9b102b797a"
  },
  {
   "cell_type": "markdown",
   "source": [
    "### queue\n"
   ],
   "metadata": {
    "collapsed": false
   },
   "id": "bc89847a14e4ea66"
  },
  {
   "cell_type": "markdown",
   "source": [
    "### 优先队列\n",
    "在python中用heap(堆)实现，heap(堆)是一种特殊二叉树"
   ],
   "metadata": {
    "collapsed": false
   },
   "id": "ed00a4faa874f622"
  }
 ],
 "metadata": {
  "kernelspec": {
   "display_name": "Python 3",
   "language": "python",
   "name": "python3"
  },
  "language_info": {
   "codemirror_mode": {
    "name": "ipython",
    "version": 2
   },
   "file_extension": ".py",
   "mimetype": "text/x-python",
   "name": "python",
   "nbconvert_exporter": "python",
   "pygments_lexer": "ipython2",
   "version": "2.7.6"
  }
 },
 "nbformat": 4,
 "nbformat_minor": 5
}
